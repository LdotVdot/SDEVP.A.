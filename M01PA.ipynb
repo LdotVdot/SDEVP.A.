{
 "cells": [
  {
   "cell_type": "code",
   "execution_count": 13,
   "id": "3d82cb36-c468-4aaa-8a37-9af3ed3e1133",
   "metadata": {},
   "outputs": [
    {
     "name": "stdout",
     "output_type": "stream",
     "text": [
      "3600\n",
      "86400\n",
      "24.0\n",
      "24\n"
     ]
    }
   ],
   "source": [
    "Tseconds = 60\n",
    "Tminutes = 60\n",
    "Ttotal = Tseconds * Tminutes\n",
    "print(Ttotal)\n",
    "\n",
    "Ttotal = seconds_per_hour\n",
    "\n",
    "Tday = seconds_per_hour * 24\n",
    "print(Tday)\n",
    "\n",
    "seconds_per_day = seconds_per_hour * 24\n",
    "\n",
    "Tfp = seconds_per_day / seconds_per_hour\n",
    "print(Tfp)\n",
    "\n",
    "Tid = seconds_per_day // seconds_per_hour\n",
    "print(Tid)\n",
    "\n",
    "#yes, aside the \".0\" in the floating point division calculation, both answers agree."
   ]
  }
 ],
 "metadata": {
  "kernelspec": {
   "display_name": "Python 3 (ipykernel)",
   "language": "python",
   "name": "python3"
  },
  "language_info": {
   "codemirror_mode": {
    "name": "ipython",
    "version": 3
   },
   "file_extension": ".py",
   "mimetype": "text/x-python",
   "name": "python",
   "nbconvert_exporter": "python",
   "pygments_lexer": "ipython3",
   "version": "3.11.7"
  }
 },
 "nbformat": 4,
 "nbformat_minor": 5
}
